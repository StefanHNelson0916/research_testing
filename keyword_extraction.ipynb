{
 "cells": [
  {
   "cell_type": "code",
   "execution_count": 31,
   "metadata": {},
   "outputs": [],
   "source": [
    "doc = \"\"\"\n",
    "Bayern Munich started Thomas Tuchel's reign with a resounding win over his old club Borussia Dortmund that took them above their Der Klassiker rivals to the top of the Bundesliga.\n",
    "The first goal was a freak as Dayot Upamecano played a long ball from his own half which goalkeeper Gregor Kobel missed as it rolled into his net.\n",
    "Thomas Muller then scored twice and Kingsley Coman netted a fourth.\n",
    "Emre Can scored a penalty and Donyell Malen added a late second for Dortmund.\n",
    "Those goals flattered the previous league leaders, who never looked in the game.\n",
    "Bayern could have won by more with Eric Maxim Choupo-Moting and Serge Gnabry having efforts ruled out for offside.\n",
    "The Munich giants had sacked boss Julian Nagelsmann after they dropped behind Dortmund in the table and turned to Tuchel, who managed their rivals from 2015 to 2017.\n",
    "And his side were in control from the moment Kobel came running out of his box and air-kicked an attempted clearance from Upamecano's through ball to Leroy Sane.\n",
    "Sane ran through with the ball to make sure it crossed the line without touching it.\n",
    "Muller then scored his sixth and seventh Der Klassiker goals - only three players have ever scored more in the fixture.\n",
    "For his first he bundled in Matthijs de Ligt's flick-on. His second was a rebound after Sane's shot was saved.\n",
    "Coman's second-half strike from Sane's ball was Bayern's 40th Bundesliga goal against Dortmund in the past six seasons.\n",
    "Can scored a penalty after Jude Bellingham was fouled and half-time substitute Malen found the net late on as Dortmund made the scoreline more respectable.\n",
    "This win takes Bayern back above Dortmund, two points clear at the top, as they seek a record-extending 11th Bundesliga title in a row.\n",
    "The result ended Dortmund's unbeaten run of 10 Bundesliga games in 2023.\n",
    "      \"\"\""
   ]
  },
  {
   "cell_type": "code",
   "execution_count": 32,
   "metadata": {},
   "outputs": [],
   "source": [
    "from sklearn.feature_extraction.text import CountVectorizer\n",
    "\n",
    "n_gram_range = (3, 3)\n",
    "stop_words = \"english\"\n",
    "\n",
    "# Extract candidate words/phrases\n",
    "count = CountVectorizer(ngram_range=n_gram_range, stop_words=stop_words).fit([doc])\n",
    "candidates = count.get_feature_names_out()"
   ]
  },
  {
   "cell_type": "code",
   "execution_count": 33,
   "metadata": {},
   "outputs": [],
   "source": [
    "from sentence_transformers import SentenceTransformer\n",
    "\n",
    "model = SentenceTransformer('distilbert-base-nli-mean-tokens')\n",
    "doc_embedding = model.encode([doc])\n",
    "candidate_embeddings = model.encode(candidates)"
   ]
  },
  {
   "cell_type": "code",
   "execution_count": 34,
   "metadata": {},
   "outputs": [],
   "source": [
    "from sklearn.metrics.pairwise import cosine_similarity\n",
    "\n",
    "top_n = 5\n",
    "distances = cosine_similarity(doc_embedding, candidate_embeddings)\n",
    "keywords = [candidates[index] for index in distances.argsort()[0][-top_n:]]"
   ]
  },
  {
   "cell_type": "code",
   "execution_count": 35,
   "metadata": {},
   "outputs": [
    {
     "data": {
      "text/plain": [
       "['bundesliga title row',\n",
       " '40th bundesliga goal',\n",
       " 'bundesliga goal dortmund',\n",
       " 'rivals bundesliga goal',\n",
       " 'bundesliga goal freak']"
      ]
     },
     "execution_count": 35,
     "metadata": {},
     "output_type": "execute_result"
    }
   ],
   "source": [
    "keywords"
   ]
  },
  {
   "cell_type": "code",
   "execution_count": 36,
   "metadata": {},
   "outputs": [],
   "source": [
    "import numpy as np\n",
    "import itertools\n",
    "\n",
    "def max_sum_sim(doc_embedding, word_embeddings, words, top_n, nr_candidates):\n",
    "    # Calculate distances and extract keywords\n",
    "    distances = cosine_similarity(doc_embedding, candidate_embeddings)\n",
    "    distances_candidates = cosine_similarity(candidate_embeddings, \n",
    "                                            candidate_embeddings)\n",
    "\n",
    "    # Get top_n words as candidates based on cosine similarity\n",
    "    words_idx = list(distances.argsort()[0][-nr_candidates:])\n",
    "    words_vals = [candidates[index] for index in words_idx]\n",
    "    distances_candidates = distances_candidates[np.ix_(words_idx, words_idx)]\n",
    "\n",
    "    # Calculate the combination of words that are the least similar to each other\n",
    "    min_sim = np.inf\n",
    "    candidate = None\n",
    "    for combination in itertools.combinations(range(len(words_idx)), top_n):\n",
    "        sim = sum([distances_candidates[i][j] for i in combination for j in combination if i != j])\n",
    "        if sim < min_sim:\n",
    "            candidate = combination\n",
    "            min_sim = sim\n",
    "\n",
    "    return [words_vals[idx] for idx in candidate]"
   ]
  },
  {
   "cell_type": "code",
   "execution_count": 41,
   "metadata": {},
   "outputs": [
    {
     "data": {
      "text/plain": [
       "['ended dortmund unbeaten',\n",
       " 'seasons scored penalty',\n",
       " 'late dortmund scoreline',\n",
       " 'offside munich giants',\n",
       " 'muller scored twice',\n",
       " 'munich giants sacked',\n",
       " 'dortmund goals flattered',\n",
       " 'bundesliga games 2023',\n",
       " '10 bundesliga games',\n",
       " '11th bundesliga title']"
      ]
     },
     "execution_count": 41,
     "metadata": {},
     "output_type": "execute_result"
    }
   ],
   "source": [
    "max_sum_sim(doc_embedding, candidate_embeddings, candidates, top_n=10, nr_candidates=20)"
   ]
  }
 ],
 "metadata": {
  "kernelspec": {
   "display_name": "Python 3",
   "language": "python",
   "name": "python3"
  },
  "language_info": {
   "codemirror_mode": {
    "name": "ipython",
    "version": 3
   },
   "file_extension": ".py",
   "mimetype": "text/x-python",
   "name": "python",
   "nbconvert_exporter": "python",
   "pygments_lexer": "ipython3",
   "version": "3.10.8"
  },
  "orig_nbformat": 4
 },
 "nbformat": 4,
 "nbformat_minor": 2
}
